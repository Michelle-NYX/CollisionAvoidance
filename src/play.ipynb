{
 "cells": [
  {
   "cell_type": "markdown",
   "metadata": {},
   "source": [
    "Michelle 2/20/19\n",
    "\n",
    "Replacement of Pigeon.jl w/o ROS requirements"
   ]
  },
  {
   "cell_type": "code",
   "execution_count": 1,
   "metadata": {},
   "outputs": [],
   "source": [
    "using LinearAlgebra\n",
    "using Distributed\n",
    "using StaticArrays\n",
    "using DifferentialDynamicsModels\n",
    "using LinearDynamicsModels\n",
    "using ForwardDiff\n",
    "using Interpolations\n",
    "using OSQP.MathOptInterfaceOSQP\n",
    "using OSQP\n",
    "import MathOptInterface\n",
    "const MOI = MathOptInterface\n",
    "using Parametron\n",
    "using JLD2\n",
    "import StaticArrays: SUnitRange\n",
    "import DifferentialDynamicsModels: mod2piF, adiff\n",
    "import Interpolations: GriddedInterpolation, Extrapolation\n",
    "Parametron.Parameter(A::AbstractArray, model) = Parameter(identity, A, model)\n",
    "\n",
    "include(\"math.jl\")\n",
    "include(\"vehicles.jl\")\n",
    "include(\"vehicle_dynamics.jl\")\n",
    "include(\"HJI_computation.jl\")\n",
    "include(\"HJI_Human.jl\")\n",
    "include(\"trajectories.jl\")\n",
    "include(\"model_predictive_control.jl\")\n",
    "include(\"decoupled_lat_long.jl\")\n",
    "include(\"coupled_lat_long.jl\")\n",
    "include(\"model_predictive_control.jl\")\n",
    "include(\"decoupled_lat_long.jl\")\n",
    "include(\"coupled_lat_long.jl\")\n",
    "\n",
    "const HJI_cache = HJICache(joinpath(@__DIR__, \"../deps/BicycleCAvoid.jld2\"));"
   ]
  },
  {
   "cell_type": "code",
   "execution_count": 2,
   "metadata": {},
   "outputs": [],
   "source": [
    "trajectory = straight_trajectory(30., 5.) #(len, vel)\n",
    "\n",
    "# Construct Decoupled MPC --> path\n",
    "X1DMPC = DecoupledTrajectoryTrackingMPC(X1(), trajectory)\n",
    "X1DMPC.current_state = BicycleState(0., 0., 0., 8., 0., 0.) #(X, Y, th, Ux, Uy, yawrate)\n",
    "X1DMPC.current_control = BicycleControl(0., 3000., 0.) #(δ, Fxf, Fxr)\n",
    "\n",
    "# Construct Coupled MPC --> trajectory\n",
    "X1CMPC = CoupledTrajectoryTrackingMPC(X1(), trajectory, N_short=5, N_long=10)\n",
    "X1CMPC.current_state = BicycleState(0., 0., 0., 8., 0., 0.)\n",
    "X1CMPC.current_control = BicycleControl(0., 0., 0.)\n",
    "\n",
    "# Determine Robot tracking type\n",
    "tracking_mode = fill(:path)\n",
    "tracking_mode[] = :traj  # Coupled MPC || :traj\n",
    "robotMPC = (tracking_mode[] == :path ? X1DMPC : X1CMPC)\n",
    "\n",
    "# Load HJI Cache\n",
    "robotMPC.HJI_cache = HJI_cache;"
   ]
  },
  {
   "cell_type": "code",
   "execution_count": 8,
   "metadata": {},
   "outputs": [
    {
     "data": {
      "text/plain": [
       "7-element HJIRelativeState{Float64}:\n",
       " -2.0\n",
       "  3.0\n",
       "  0.8\n",
       "  8.0\n",
       "  0.0\n",
       "  4.0\n",
       "  0.0"
      ]
     },
     "execution_count": 8,
     "metadata": {},
     "output_type": "execute_result"
    }
   ],
   "source": [
    "# Construct Decoupled MPC --> HUMAN\n",
    "# humanCMPC = CoupledTrajectoryTrackingMPC(X1(), trajectory)\n",
    "robotMPC.other_car_state = SimpleCarState(-3., -2., 0.8, 4.) #(X, Y, th, V)\n",
    "\n",
    "# Construct relative states\n",
    "relative_state = HJIRelativeState(robotMPC.current_state, robotMPC.other_car_state) #(ΔX, ΔY, Δθ, Ux, Uy, V, r)"
   ]
  },
  {
   "cell_type": "code",
   "execution_count": 4,
   "metadata": {},
   "outputs": [
    {
     "data": {
      "text/plain": [
       "(V = 0.7235913235125307, ∇V = [-0.532056, 0.758396, -1.03679, 0.0, 0.0, 0.0, 0.0])"
      ]
     },
     "execution_count": 4,
     "metadata": {},
     "output_type": "execute_result"
    }
   ],
   "source": [
    "# Extract Value\n",
    "V, ∇V = robotMPC.HJI_cache[relative_state]"
   ]
  },
  {
   "cell_type": "code",
   "execution_count": 9,
   "metadata": {},
   "outputs": [
    {
     "name": "stdout",
     "output_type": "stream",
     "text": [
      "V = 0.7235913235125307ϵ = 10.0DIST = getfield(Main, Symbol(\"##19#21\")){VehicleModel{Float64,BicycleModel{Float64}},HJIRelativeState{Float64},SArray{Tuple{7},Float64,1,7},SArray{Tuple{2},Float64,1,2}}(VehicleModel{Float64,BicycleModel{Float64}}(BicycleModel{Float64}(BicycleModelParams{Float64}(2.87, 1.4978360488798372, 1.372163951120163, 0.47, 9.80665, 1964.0, 2900.0, 0.92, 140000.0, 190000.0, 241.0, 25.1, 0.0)), LongitudinalActuationParams{Float64}(0.0, 1.0, 0.6, 0.4), ControlLimits{Float64}(5600.0, -16793.73299576057, 75000.0, 0.3141592653589793, 0.11321243771181404)), [-2.0, 3.0, 0.8, 8.0, 0.0, 4.0, 0.0], [-0.532056, 0.758396, -1.03679, 0.0, 0.0, 0.0, 0.0], [0.45285, -7.91528])"
     ]
    }
   ],
   "source": [
    "_, _, t = path_coordinates(robotMPC.trajectory, robotMPC.current_state)\n",
    "compute_time_steps!(robotMPC, t)\n",
    "compute_linearization_nodes!(robotMPC)\n",
    "update_QP!(robotMPC)\n",
    "# solve!(robotMPC)"
   ]
  },
  {
   "cell_type": "code",
   "execution_count": null,
   "metadata": {},
   "outputs": [],
   "source": [
    "s, e, _ = path_coordinates(robotMPC.trajectory, robotMPC.current_state)\n",
    "u_next = get_next_control(robotMPC)"
   ]
  },
  {
   "cell_type": "code",
   "execution_count": 7,
   "metadata": {},
   "outputs": [
    {
     "data": {
      "text/plain": [
       "7-element HJIRelativeState{Float64}:\n",
       " 0.0\n",
       " 0.0\n",
       " 0.0\n",
       " 8.0\n",
       " 0.0\n",
       " 0.0\n",
       " 0.0"
      ]
     },
     "execution_count": 7,
     "metadata": {},
     "output_type": "execute_result"
    }
   ],
   "source": [
    "relative_state = HJIRelativeState(robotMPC.current_state, robotMPC.other_car_state)"
   ]
  },
  {
   "cell_type": "markdown",
   "metadata": {},
   "source": [
    "DIST = getfield(Main, Symbol(\"##19#21\")){VehicleModel{Float64,BicycleModel{Float64}},HJIRelativeState{Float64},SArray{Tuple{7},Float64,1,7},SArray{Tuple{2},Float64,1,2}}(VehicleModel{Float64,BicycleModel{Float64}}(BicycleModel{Float64}(BicycleModelParams{Float64}(2.87, 1.4978360488798372, 1.372163951120163, 0.47, 9.80665, 1964.0, 2900.0, 0.92, 140000.0, 190000.0, 241.0, 25.1, 0.0)), LongitudinalActuationParams{Float64}(0.0, 1.0, 0.6, 0.4), ControlLimits{Float64}(5600.0, -16793.73299576057, 75000.0, 0.3141592653589793, 0.11321243771181404)), [-3.6, -5.0, 0.174533, 9.0, 0.0, 4.0, 0.0], [0.0, 0.0, 0.0, 0.0, 0.0, 0.0, 0.0], [0.0, 0.0])\n",
    "\n",
    "HUMAN = getfield(Main, Symbol(\"##89#90\")){VehicleModel{Float64,BicycleModel{Float64}},HJIRelativeState_Human{Float64},SArray{Tuple{5},Float64,1,5},SArray{Tuple{1},Float64,1,1}}(VehicleModel{Float64,BicycleModel{Float64}}(BicycleModel{Float64}(BicycleModelParams{Float64}(2.87, 1.4978360488798372, 1.372163951120163, 0.47, 9.80665, 1964.0, 2900.0, 0.92, 140000.0, 190000.0, 241.0, 25.1, 0.0)), LongitudinalActuationParams{Float64}(0.0, 1.0, 0.6, 0.4), ControlLimits{Float64}(5600.0, -16793.73299576057, 75000.0, 0.3141592653589793, 0.11321243771181404)), [5.0, -3.6, 0.0, 0.174533, 9.0], [0.198853, -0.630596, 5.16971, -5.2784, -0.0155864], [1.0472])uR = [0.0, 0.0]"
   ]
  },
  {
   "cell_type": "code",
   "execution_count": null,
   "metadata": {},
   "outputs": [],
   "source": []
  }
 ],
 "metadata": {
  "kernelspec": {
   "display_name": "Julia 1.1.0",
   "language": "julia",
   "name": "julia-1.1"
  },
  "language_info": {
   "file_extension": ".jl",
   "mimetype": "application/julia",
   "name": "julia",
   "version": "1.1.0"
  }
 },
 "nbformat": 4,
 "nbformat_minor": 2
}
