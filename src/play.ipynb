{
 "cells": [
  {
   "cell_type": "markdown",
   "metadata": {},
   "source": [
    "Michelle 2/20/19\n",
    "\n",
    "Replacement of Pigeon.jl w/o ROS requirements"
   ]
  },
  {
   "cell_type": "code",
   "execution_count": 1,
   "metadata": {},
   "outputs": [],
   "source": [
    "using LinearAlgebra\n",
    "using Distributed\n",
    "using StaticArrays\n",
    "using DifferentialDynamicsModels\n",
    "using LinearDynamicsModels\n",
    "using ForwardDiff\n",
    "using Interpolations\n",
    "using OSQP.MathOptInterfaceOSQP\n",
    "using OSQP\n",
    "import MathOptInterface\n",
    "const MOI = MathOptInterface\n",
    "using Parametron\n",
    "using JLD2\n"
   ]
  },
  {
   "cell_type": "code",
   "execution_count": 2,
   "metadata": {},
   "outputs": [
    {
     "data": {
      "text/plain": [
       "get_next_control (generic function with 3 methods)"
      ]
     },
     "execution_count": 2,
     "metadata": {},
     "output_type": "execute_result"
    }
   ],
   "source": [
    "import StaticArrays: SUnitRange\n",
    "import DifferentialDynamicsModels: mod2piF, adiff\n",
    "import Interpolations: GriddedInterpolation, Extrapolation\n",
    "Parametron.Parameter(A::AbstractArray, model) = Parameter(identity, A, model)\n",
    "\n",
    "include(\"math.jl\")\n",
    "include(\"vehicles.jl\")\n",
    "include(\"vehicle_dynamics.jl\")\n",
    "include(\"HJI_computation.jl\")\n",
    "include(\"trajectories.jl\")\n",
    "include(\"model_predictive_control.jl\")\n",
    "include(\"decoupled_lat_long.jl\")\n",
    "include(\"coupled_lat_long.jl\")\n",
    "include(\"model_predictive_control.jl\")\n",
    "include(\"decoupled_lat_long.jl\")\n",
    "include(\"coupled_lat_long.jl\")"
   ]
  },
  {
   "cell_type": "code",
   "execution_count": 4,
   "metadata": {},
   "outputs": [
    {
     "name": "stderr",
     "output_type": "stream",
     "text": [
      "WARNING: redefining constant X1DMPC\n",
      "WARNING: redefining constant X1CMPC\n"
     ]
    },
    {
     "data": {
      "text/plain": [
       "3-element BicycleControl{Float64}:\n",
       " 0.0\n",
       " 0.0\n",
       " 0.0"
      ]
     },
     "execution_count": 4,
     "metadata": {},
     "output_type": "execute_result"
    }
   ],
   "source": [
    "const X1DMPC = DecoupledTrajectoryTrackingMPC(X1(), straight_trajectory(30., 5.))\n",
    "const X1CMPC = CoupledTrajectoryTrackingMPC(X1(), straight_trajectory(30., 5.), N_short=5, N_long=10)\n",
    "X1DMPC.current_state = BicycleState(0., 0., 0., 5., 0., 0.)\n",
    "X1DMPC.current_control = BicycleControl(0., 0., 0.)\n",
    "X1CMPC.current_state = BicycleState(0., 0., 0., 5., 0., 0.)\n",
    "X1CMPC.current_control = BicycleControl(0., 0., 0.)\n",
    "# X1CMPC.HJI_cache = HJICache(joinpath(@__DIR__, \"../deps/BicycleCAvoid.jld2\"))"
   ]
  },
  {
   "cell_type": "code",
   "execution_count": 5,
   "metadata": {},
   "outputs": [
    {
     "data": {
      "text/plain": [
       "load_test_paths (generic function with 1 method)"
      ]
     },
     "execution_count": 5,
     "metadata": {},
     "output_type": "execute_result"
    }
   ],
   "source": [
    "function __init__()\n",
    "    Parametron.initialize!(X1DMPC.model)    # Refresh pointer to OSQP model\n",
    "    Parametron.initialize!(X1CMPC.model)    # Refresh pointer to OSQP model\n",
    "\n",
    "    # dry-runs to force compilation\n",
    "    compute_time_steps!(X1DMPC, 0.)\n",
    "    compute_linearization_nodes!(X1DMPC)\n",
    "    update_QP!(X1DMPC)\n",
    "    solve!(X1DMPC)\n",
    "\n",
    "    compute_time_steps!(X1CMPC, 0.)\n",
    "    compute_linearization_nodes!(X1CMPC)\n",
    "    update_QP!(X1CMPC)\n",
    "    solve!(X1CMPC)\n",
    "end\n",
    "\n",
    "function load_test_paths()\n",
    "    include(joinpath(@__DIR__, \"..\", \"test\", \"load_test_paths.jl\"))\n",
    "end\n",
    "\n"
   ]
  },
  {
   "cell_type": "raw",
   "metadata": {},
   "source": []
  }
 ],
 "metadata": {
  "kernelspec": {
   "display_name": "Julia 1.1.0",
   "language": "julia",
   "name": "julia-1.1"
  },
  "language_info": {
   "file_extension": ".jl",
   "mimetype": "application/julia",
   "name": "julia",
   "version": "1.1.0"
  }
 },
 "nbformat": 4,
 "nbformat_minor": 2
}
