{
 "cells": [
  {
   "cell_type": "markdown",
   "metadata": {},
   "source": [
    "Michelle 2/28/19\n",
    "\n",
    "Replacement of Pigeon.jl w/o ROS requirements\n",
    "\n",
    "Suitable for Collision Avoidance Controller using HJI severity"
   ]
  },
  {
   "cell_type": "code",
   "execution_count": null,
   "metadata": {},
   "outputs": [],
   "source": [
    "using LinearAlgebra\n",
    "using Distributed\n",
    "using StaticArrays\n",
    "using DifferentialDynamicsModels\n",
    "using LinearDynamicsModels\n",
    "using ForwardDiff\n",
    "using Interpolations\n",
    "using OSQP.MathOptInterfaceOSQP\n",
    "using OSQP\n",
    "import MathOptInterface\n",
    "const MOI = MathOptInterface\n",
    "using Parametron\n",
    "using JLD2\n",
    "import StaticArrays: SUnitRange\n",
    "import DifferentialDynamicsModels: mod2piF, adiff\n",
    "import Interpolations: GriddedInterpolation, Extrapolation\n",
    "Parametron.Parameter(A::AbstractArray, model) = Parameter(identity, A, model)\n",
    "\n",
    "include(\"math.jl\")\n",
    "include(\"vehicles.jl\")\n",
    "include(\"vehicle_dynamics.jl\")\n",
    "include(\"HJI_computation.jl\")\n",
    "include(\"HJI_Human.jl\")\n",
    "include(\"trajectories.jl\")\n",
    "include(\"model_predictive_control.jl\")\n",
    "# include(\"decoupled_lat_long.jl\")\n",
    "# include(\"coupled_lat_long.jl\")\n",
    "include(\"joint_traj_tracking.jl\")\n",
    "include(\"model_predictive_control.jl\")\n",
    "include(\"decoupled_lat_long.jl\")\n",
    "include(\"coupled_lat_long.jl\")\n",
    "\n",
    "const HJI_cache = HJICache(joinpath(@__DIR__, \"../deps/BicycleCAvoid.jld2\"));\n",
    "const HJI_cache_Human = load_HJICache_Human(joinpath(@__DIR__, \"../deps/HJIValue_Human_MinD.jld2\"));"
   ]
  },
  {
   "cell_type": "code",
   "execution_count": null,
   "metadata": {},
   "outputs": [],
   "source": [
    "trajectory = straight_trajectory(30., 5.) #(len, vel)\n",
    "\n",
    "# Construct Coupled MPC --> trajectory\n",
    "X1CMPC = CoupledTrajectoryTrackingMPC(X1(), trajectory, N_short=5, N_long=10)\n",
    "X1CMPC.current_state = BicycleState(0., 0., 0., 9., 0., 0.) #(X, Y, th, Ux, Uy, yawrate)\n",
    "X1CMPC.current_control = BicycleControl(0., 0., 0.) #(δ, Fxf, Fxr)\n",
    "\n",
    "robotMPC = X1CMPC\n",
    "\n",
    "# Construct Decoupled MPC --> HUMAN\n",
    "robotMPC.other_car_state = SimpleCarState(5., -3.6, deg2rad(10), 4.) #(X, Y, th, V)"
   ]
  },
  {
   "cell_type": "code",
   "execution_count": null,
   "metadata": {},
   "outputs": [],
   "source": [
    "# Load HJI Cache\n",
    "robotMPC.HJI_cache_Human = HJI_cache_Human;\n",
    "\n",
    "# Construct relative states\n",
    "relative_state = HJIRelativeState_Human(robotMPC.current_state, robotMPC.other_car_state) #(ΔX, ΔY, θr, θh Ux)\n",
    "\n",
    "# Extract Value\n",
    "V, ∇V = robotMPC.HJI_cache_Human[relative_state]"
   ]
  },
  {
   "cell_type": "code",
   "execution_count": null,
   "metadata": {},
   "outputs": [],
   "source": [
    "_, _, t = path_coordinates(robotMPC.trajectory, robotMPC.current_state)\n",
    "compute_time_steps!(robotMPC, t)\n",
    "compute_linearization_nodes!(robotMPC)\n",
    "update_QP!(robotMPC)\n",
    "solve!(robotMPC)"
   ]
  },
  {
   "cell_type": "code",
   "execution_count": null,
   "metadata": {},
   "outputs": [],
   "source": [
    "s, e, _ = path_coordinates(robotMPC.trajectory, robotMPC.current_state)\n",
    "u_next = get_next_control(robotMPC)"
   ]
  },
  {
   "cell_type": "code",
   "execution_count": null,
   "metadata": {},
   "outputs": [],
   "source": [
    "qs, xs, us, ps = simulate(robotMPC, robotMPC.current_state, [0., 0., 0.])"
   ]
  },
  {
   "cell_type": "code",
   "execution_count": null,
   "metadata": {},
   "outputs": [],
   "source": [
    "qs"
   ]
  },
  {
   "cell_type": "code",
   "execution_count": null,
   "metadata": {},
   "outputs": [],
   "source": [
    "us"
   ]
  },
  {
   "cell_type": "code",
   "execution_count": null,
   "metadata": {},
   "outputs": [],
   "source": [
    "ps"
   ]
  },
  {
   "cell_type": "code",
   "execution_count": null,
   "metadata": {},
   "outputs": [],
   "source": []
  }
 ],
 "metadata": {
  "kernelspec": {
   "display_name": "Julia 1.1.0",
   "language": "julia",
   "name": "julia-1.1"
  },
  "language_info": {
   "file_extension": ".jl",
   "mimetype": "application/julia",
   "name": "julia",
   "version": "1.1.0"
  }
 },
 "nbformat": 4,
 "nbformat_minor": 2
}
