{
 "cells": [
  {
   "cell_type": "markdown",
   "metadata": {},
   "source": [
    "Michelle 2/20/19\n",
    "\n",
    "Replacement of Pigeon.jl w/o ROS requirements"
   ]
  },
  {
   "cell_type": "code",
   "execution_count": 2,
   "metadata": {},
   "outputs": [
    {
     "ename": "LoadError",
     "evalue": "UndefVarError: HJICache_Human not defined",
     "output_type": "error",
     "traceback": [
      "UndefVarError: HJICache_Human not defined",
      "",
      "Stacktrace:",
      " [1] top-level scope at none:0",
      " [2] include at ./boot.jl:326 [inlined]",
      " [3] include_relative(::Module, ::String) at ./loading.jl:1038",
      " [4] include(::Module, ::String) at ./sysimg.jl:29",
      " [5] include(::String) at ./client.jl:403",
      " [6] top-level scope at In[2]:24"
     ]
    }
   ],
   "source": [
    "using LinearAlgebra\n",
    "using Distributed\n",
    "using StaticArrays\n",
    "using DifferentialDynamicsModels\n",
    "using LinearDynamicsModels\n",
    "using ForwardDiff\n",
    "using Interpolations\n",
    "using OSQP.MathOptInterfaceOSQP\n",
    "using OSQP\n",
    "import MathOptInterface\n",
    "const MOI = MathOptInterface\n",
    "using Parametron\n",
    "using JLD2\n",
    "import StaticArrays: SUnitRange\n",
    "import DifferentialDynamicsModels: mod2piF, adiff\n",
    "import Interpolations: GriddedInterpolation, Extrapolation\n",
    "Parametron.Parameter(A::AbstractArray, model) = Parameter(identity, A, model)\n",
    "\n",
    "include(\"math.jl\")\n",
    "include(\"vehicles.jl\")\n",
    "include(\"vehicle_dynamics.jl\")\n",
    "include(\"HJI_computation.jl\")\n",
    "include(\"HJI_Human.jl\")\n",
    "include(\"trajectories.jl\")\n",
    "include(\"model_predictive_control.jl\")\n",
    "include(\"decoupled_lat_long.jl\")\n",
    "include(\"coupled_lat_long.jl\")\n",
    "include(\"model_predictive_control.jl\")\n",
    "include(\"decoupled_lat_long.jl\")\n",
    "include(\"coupled_lat_long.jl\")\n",
    "\n",
    "const HJI_cache = HJICache(joinpath(@__DIR__, \"../deps/BicycleCAvoid.jld2\"));"
   ]
  },
  {
   "cell_type": "code",
   "execution_count": 32,
   "metadata": {},
   "outputs": [],
   "source": [
    "trajectory = straight_trajectory(30., 5.) #(len, vel)\n",
    "\n",
    "# Construct Decoupled MPC --> path\n",
    "X1DMPC = DecoupledTrajectoryTrackingMPC(X1(), trajectory)\n",
    "X1DMPC.current_state = BicycleState(0., 0., 0., 8., 0., 0.) #(X, Y, th, Ux, Uy, yawrate)\n",
    "X1DMPC.current_control = BicycleControl(0., 3000., 0.) #(δ, Fxf, Fxr)\n",
    "\n",
    "# Construct Coupled MPC --> trajectory\n",
    "X1CMPC = CoupledTrajectoryTrackingMPC(X1(), trajectory, N_short=5, N_long=10)\n",
    "X1CMPC.current_state = BicycleState(0., 0., 0., 8., 0., 0.)\n",
    "X1CMPC.current_control = BicycleControl(0., 0., 0.)\n",
    "\n",
    "# Determine Robot tracking type\n",
    "tracking_mode = fill(:path)\n",
    "tracking_mode[] = :traj  # Coupled MPC || :traj\n",
    "robotMPC = (tracking_mode[] == :path ? X1DMPC : X1CMPC)\n",
    "\n",
    "# Load HJI Cache\n",
    "robotMPC.HJI_cache = HJI_cache;"
   ]
  },
  {
   "cell_type": "code",
   "execution_count": 42,
   "metadata": {},
   "outputs": [
    {
     "data": {
      "text/plain": [
       "7-element HJIRelativeState{Float64}:\n",
       " -2.0\n",
       "  3.0\n",
       "  0.8\n",
       "  8.0\n",
       "  0.0\n",
       "  4.0\n",
       "  0.0"
      ]
     },
     "execution_count": 42,
     "metadata": {},
     "output_type": "execute_result"
    }
   ],
   "source": [
    "# Construct Decoupled MPC --> HUMAN\n",
    "humanCMPC = CoupledTrajectoryTrackingMPC(X1(), trajectory)\n",
    "humanCMPC.other_car_state = SimpleCarState(-3., -2., 0.8, 4.) #(X, Y, th, V)\n",
    "\n",
    "# Construct relative states\n",
    "relative_state = HJIRelativeState(robotMPC.current_state, humanCMPC.other_car_state) #(ΔX, ΔY, Δθ, Ux, Uy, V, r)"
   ]
  },
  {
   "cell_type": "code",
   "execution_count": 43,
   "metadata": {},
   "outputs": [
    {
     "data": {
      "text/plain": [
       "(V = 0.7235913235125307, ∇V = [-0.532056, 0.758396, -1.03679, 0.0, 0.0, 0.0, 0.0])"
      ]
     },
     "execution_count": 43,
     "metadata": {},
     "output_type": "execute_result"
    }
   ],
   "source": [
    "# Extract Value\n",
    "V, ∇V = robotMPC.HJI_cache[relative_state]"
   ]
  },
  {
   "cell_type": "code",
   "execution_count": 44,
   "metadata": {},
   "outputs": [
    {
     "data": {
      "text/plain": [
       "true"
      ]
     },
     "execution_count": 44,
     "metadata": {},
     "output_type": "execute_result"
    }
   ],
   "source": [
    "_, _, t = path_coordinates(robotMPC.trajectory, robotMPC.current_state)\n",
    "compute_time_steps!(robotMPC, t)\n",
    "compute_linearization_nodes!(robotMPC)\n",
    "update_QP!(robotMPC)\n",
    "solve!(robotMPC)"
   ]
  },
  {
   "cell_type": "code",
   "execution_count": 45,
   "metadata": {},
   "outputs": [
    {
     "data": {
      "text/plain": [
       "3-element BicycleControl{Float64}:\n",
       "    1.0297343650021985e-19\n",
       " -297.6367090427787       \n",
       " -198.4244726951858       "
      ]
     },
     "execution_count": 45,
     "metadata": {},
     "output_type": "execute_result"
    }
   ],
   "source": [
    "s, e, _ = path_coordinates(robotMPC.trajectory, robotMPC.current_state)\n",
    "u_next = get_next_control(robotMPC)"
   ]
  },
  {
   "cell_type": "code",
   "execution_count": null,
   "metadata": {},
   "outputs": [],
   "source": []
  }
 ],
 "metadata": {
  "kernelspec": {
   "display_name": "Julia 1.1.0",
   "language": "julia",
   "name": "julia-1.1"
  },
  "language_info": {
   "file_extension": ".jl",
   "mimetype": "application/julia",
   "name": "julia",
   "version": "1.1.0"
  }
 },
 "nbformat": 4,
 "nbformat_minor": 2
}
