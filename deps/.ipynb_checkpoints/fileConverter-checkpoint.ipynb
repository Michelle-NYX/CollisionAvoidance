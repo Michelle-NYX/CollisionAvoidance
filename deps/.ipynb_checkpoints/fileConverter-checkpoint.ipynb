{
 "cells": [
  {
   "cell_type": "code",
   "execution_count": 1,
   "metadata": {},
   "outputs": [],
   "source": [
    "using Pkg\n",
    "using FileIO\n",
    "using JLD2\n",
    "using MAT"
   ]
  },
  {
   "cell_type": "markdown",
   "metadata": {},
   "source": [
    "# Extracting Values from MAT: Wall, Human_Max, Human_Min"
   ]
  },
  {
   "cell_type": "code",
   "execution_count": 160,
   "metadata": {},
   "outputs": [
    {
     "data": {
      "text/plain": [
       "3-element Array{Symbol,1}:\n",
       " :grid_wall\n",
       " :V_wall   \n",
       " :∇V_wall  "
      ]
     },
     "execution_count": 160,
     "metadata": {},
     "output_type": "execute_result"
    }
   ],
   "source": [
    "file = matopen(\"value_Wall_cont.mat\")\n",
    "V_wall = read(file, \"V_raw\")\n",
    "∇V_wall = read(file, \"dV_raw\")\n",
    "dim = read(file, \"dim\")\n",
    "Xmax = read(file, \"Xmax\")\n",
    "Xmin = read(file, \"Xmin\")\n",
    "N = read(file, \"N\")\n",
    "close(file)\n",
    "\n",
    "grid_wall = tuple()\n",
    "\n",
    "for i in 1:Int(dim)\n",
    "    xn = collect(range(Xmin[i], Xmax[i], length = Int(N[i])))\n",
    "    grid_wall = tuple(grid_wall..., xn)\n",
    "end\n",
    "@save \"record_Wall_Cont.jld2\"  grid_wall V_wall ∇V_wall\n",
    "@load \"record_Wall_Cont.jld2\""
   ]
  },
  {
   "cell_type": "code",
   "execution_count": 161,
   "metadata": {},
   "outputs": [
    {
     "data": {
      "text/plain": [
       "3-element Array{Symbol,1}:\n",
       " :grid_human\n",
       " :V_human   \n",
       " :∇V_human  "
      ]
     },
     "execution_count": 161,
     "metadata": {},
     "output_type": "execute_result"
    }
   ],
   "source": [
    "file = matopen(\"value_Human_cont_MaxD.mat\")\n",
    "V_human = read(file, \"V_raw\")\n",
    "∇V_human = read(file, \"dV_raw\")\n",
    "dim = read(file, \"dim\")\n",
    "Xmax = read(file, \"Xmax\")\n",
    "Xmin = read(file, \"Xmin\")\n",
    "N = read(file, \"N\")\n",
    "close(file)\n",
    "\n",
    "grid_human = tuple()\n",
    "\n",
    "for i in 1:Int(dim)\n",
    "    xn = collect(range(Xmin[i], Xmax[i], length = Int(N[i])))\n",
    "    grid_human = tuple(grid_human..., xn)\n",
    "end\n",
    "@save \"record_Human_Cont_MaxD.jld2\"  grid_human V_human ∇V_human\n",
    "@load \"record_Human_Cont_MaxD.jld2\""
   ]
  },
  {
   "cell_type": "code",
   "execution_count": 162,
   "metadata": {},
   "outputs": [
    {
     "data": {
      "text/plain": [
       "3-element Array{Symbol,1}:\n",
       " :grid_human\n",
       " :V_human   \n",
       " :∇V_human  "
      ]
     },
     "execution_count": 162,
     "metadata": {},
     "output_type": "execute_result"
    }
   ],
   "source": [
    "file = matopen(\"value_Human_cont_MinD.mat\")\n",
    "V_human = read(file, \"V_raw\")\n",
    "∇V_human = read(file, \"dV_raw\")\n",
    "dim = read(file, \"dim\")\n",
    "Xmax = read(file, \"Xmax\")\n",
    "Xmin = read(file, \"Xmin\")\n",
    "N = read(file, \"N\")\n",
    "close(file)\n",
    "\n",
    "grid_human = tuple()\n",
    "\n",
    "for i in 1:Int(dim)\n",
    "    xn = collect(range(Xmin[i], Xmax[i], length = Int(N[i])))\n",
    "    grid_human = tuple(grid_human..., xn)\n",
    "end\n",
    "@save \"record_Human_Cont_MinD.jld2\"  grid_human V_human ∇V_human\n",
    "@load \"record_Human_Cont_MinD.jld2\""
   ]
  },
  {
   "cell_type": "code",
   "execution_count": 21,
   "metadata": {},
   "outputs": [
    {
     "data": {
      "text/plain": [
       "3-element Array{Symbol,1}:\n",
       " :grid_knots\n",
       " :V_raw     \n",
       " :∇V_raw    "
      ]
     },
     "execution_count": 21,
     "metadata": {},
     "output_type": "execute_result"
    }
   ],
   "source": [
    "@load \"BicycleCAvoid.jld2\" # Ed's work"
   ]
  },
  {
   "cell_type": "code",
   "execution_count": null,
   "metadata": {},
   "outputs": [],
   "source": []
  }
 ],
 "metadata": {
  "kernelspec": {
   "display_name": "Julia 1.1.0",
   "language": "julia",
   "name": "julia-1.1"
  },
  "language_info": {
   "file_extension": ".jl",
   "mimetype": "application/julia",
   "name": "julia",
   "version": "1.1.0"
  }
 },
 "nbformat": 4,
 "nbformat_minor": 2
}
