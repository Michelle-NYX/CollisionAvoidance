{
 "cells": [
  {
   "cell_type": "code",
   "execution_count": 1,
   "metadata": {},
   "outputs": [],
   "source": [
    "using Pkg\n",
    "using FileIO\n",
    "using JLD2\n",
    "using MAT\n",
    "using Interpolations\n",
    "import StaticArrays: SUnitRange\n",
    "using StaticArrays"
   ]
  },
  {
   "cell_type": "markdown",
   "metadata": {},
   "source": [
    "# Extracting Values from MAT: Wall, Human_Max, Human_Min"
   ]
  },
  {
   "cell_type": "code",
   "execution_count": 21,
   "metadata": {},
   "outputs": [
    {
     "data": {
      "text/plain": [
       "3-element Array{Symbol,1}:\n",
       " :grid   \n",
       " :mV_raw \n",
       " :m∇V_raw"
      ]
     },
     "execution_count": 21,
     "metadata": {},
     "output_type": "execute_result"
    }
   ],
   "source": [
    "HJIdata = matread(\"human_temp.mat\")\n",
    "dim = HJIdata[\"dim\"]\n",
    "Xmax = HJIdata[\"Xmax\"]\n",
    "Xmin = HJIdata[\"Xmin\"]\n",
    "N = HJIdata[\"N\"]\n",
    "\n",
    "mgrid = tuple()\n",
    "\n",
    "for i in 1:Int(dim)\n",
    "    xn = collect(range(Xmin[i], Xmax[i], length = Int(N[i])))\n",
    "    grid = tuple(grid..., xn)\n",
    "end\n",
    "\n",
    "mV_raw = HJIdata[\"data\"]\n",
    "m∇V_raw = SVector.(HJIdata[\"deriv\"]...);\n",
    "\n",
    "@save \"human_temp.jld2\"  grid mV_raw m∇V_raw\n",
    "@load \"human_temp.jld2\""
   ]
  },
  {
   "cell_type": "code",
   "execution_count": 34,
   "metadata": {},
   "outputs": [
    {
     "ename": "MethodError",
     "evalue": "MethodError: no method matching size(::NTuple{5,Array{Float64,1}})\nClosest candidates are:\n  size(::Tuple, !Matched::Any) at tuple.jl:22\n  size(!Matched::BitArray{1}) at bitarray.jl:77\n  size(!Matched::BitArray{1}, !Matched::Any) at bitarray.jl:81\n  ...",
     "output_type": "error",
     "traceback": [
      "MethodError: no method matching size(::NTuple{5,Array{Float64,1}})\nClosest candidates are:\n  size(::Tuple, !Matched::Any) at tuple.jl:22\n  size(!Matched::BitArray{1}) at bitarray.jl:77\n  size(!Matched::BitArray{1}, !Matched::Any) at bitarray.jl:81\n  ...",
      "",
      "Stacktrace:",
      " [1] top-level scope at In[34]:1"
     ]
    }
   ],
   "source": [
    "size(grid)"
   ]
  },
  {
   "cell_type": "code",
   "execution_count": 22,
   "metadata": {},
   "outputs": [
    {
     "data": {
      "text/plain": [
       "3-element Array{Symbol,1}:\n",
       " :grid_knots\n",
       " :V_raw     \n",
       " :∇V_raw    "
      ]
     },
     "execution_count": 22,
     "metadata": {},
     "output_type": "execute_result"
    }
   ],
   "source": [
    "@load \"BicycleCAvoid.jld2\" # Ed's work"
   ]
  },
  {
   "cell_type": "code",
   "execution_count": 35,
   "metadata": {},
   "outputs": [
    {
     "ename": "MethodError",
     "evalue": "MethodError: no method matching size(::NTuple{7,Array{Float32,1}})\nClosest candidates are:\n  size(::Tuple, !Matched::Any) at tuple.jl:22\n  size(!Matched::BitArray{1}) at bitarray.jl:77\n  size(!Matched::BitArray{1}, !Matched::Any) at bitarray.jl:81\n  ...",
     "output_type": "error",
     "traceback": [
      "MethodError: no method matching size(::NTuple{7,Array{Float32,1}})\nClosest candidates are:\n  size(::Tuple, !Matched::Any) at tuple.jl:22\n  size(!Matched::BitArray{1}) at bitarray.jl:77\n  size(!Matched::BitArray{1}, !Matched::Any) at bitarray.jl:81\n  ...",
      "",
      "Stacktrace:",
      " [1] top-level scope at In[35]:1"
     ]
    }
   ],
   "source": [
    "size(grid_knots)"
   ]
  },
  {
   "cell_type": "code",
   "execution_count": 36,
   "metadata": {},
   "outputs": [
    {
     "data": {
      "text/plain": [
       "(51, 21, 11, 11, 11)"
      ]
     },
     "execution_count": 36,
     "metadata": {},
     "output_type": "execute_result"
    }
   ],
   "source": [
    "V  = interpolate(Float32, Float32, grid, mV_raw, Gridded(Linear()));\n",
    "∇V = interpolate(Float32, SVector{5,Float32}, grid, m∇V_raw, Gridded(Linear()));\n",
    "size(∇V)"
   ]
  },
  {
   "cell_type": "code",
   "execution_count": 17,
   "metadata": {},
   "outputs": [
    {
     "data": {
      "text/plain": [
       "Dict{String,Any} with 6 entries:\n",
       "  \"N\"     => [51.0; 21.0; … ; 11.0; 11.0]\n",
       "  \"deriv\" => Any[[0.0397532 0.0190061 … 0.00419372 1.90751e-6; -0.173096 -0.208…\n",
       "  \"Xmin\"  => [-10.0; -5.0; … ; -1.5708; 0.0]\n",
       "  \"data\"  => [-0.479097 -0.499416 … -0.0900967 0.000999813; -0.533398 -0.586324…\n",
       "  \"dim\"   => 5.0\n",
       "  \"Xmax\"  => [15.0; 5.0; … ; 1.5708; 10.0]"
      ]
     },
     "execution_count": 17,
     "metadata": {},
     "output_type": "execute_result"
    }
   ],
   "source": [
    "file"
   ]
  },
  {
   "cell_type": "code",
   "execution_count": null,
   "metadata": {},
   "outputs": [],
   "source": []
  }
 ],
 "metadata": {
  "kernelspec": {
   "display_name": "Julia 1.1.0",
   "language": "julia",
   "name": "julia-1.1"
  },
  "language_info": {
   "file_extension": ".jl",
   "mimetype": "application/julia",
   "name": "julia",
   "version": "1.1.0"
  }
 },
 "nbformat": 4,
 "nbformat_minor": 2
}
