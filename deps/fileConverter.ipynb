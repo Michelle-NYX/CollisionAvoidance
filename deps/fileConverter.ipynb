{
 "cells": [
  {
   "cell_type": "code",
   "execution_count": 3,
   "metadata": {},
   "outputs": [
    {
     "name": "stderr",
     "output_type": "stream",
     "text": [
      "┌ Info: Precompiling MAT [23992714-dd62-5051-b70f-ba57cb901cac]\n",
      "└ @ Base loading.jl:1186\n"
     ]
    }
   ],
   "source": [
    "using Pkg\n",
    "using FileIO\n",
    "using JLD2\n",
    "using MAT\n",
    "using Interpolations\n",
    "import StaticArrays: SUnitRange\n",
    "using StaticArrays"
   ]
  },
  {
   "cell_type": "markdown",
   "metadata": {},
   "source": [
    "# Extracting Values from MAT: Wall, Human_Max, Human_Min"
   ]
  },
  {
   "cell_type": "code",
   "execution_count": 4,
   "metadata": {},
   "outputs": [
    {
     "data": {
      "text/plain": [
       "3-element Array{Symbol,1}:\n",
       " :mgrid  \n",
       " :mV_raw \n",
       " :m∇V_raw"
      ]
     },
     "execution_count": 4,
     "metadata": {},
     "output_type": "execute_result"
    }
   ],
   "source": [
    "HJIdata = matread(\"HJIValue_Human_MinD.mat\")\n",
    "dim = HJIdata[\"dim\"]\n",
    "Xmax = HJIdata[\"Xmax\"]\n",
    "Xmin = HJIdata[\"Xmin\"]\n",
    "N = HJIdata[\"N\"]\n",
    "\n",
    "mgrid = tuple()\n",
    "\n",
    "for i in 1:Int(dim)\n",
    "    xn = collect(range(Xmin[i], Xmax[i], length = Int(N[i])))\n",
    "    mgrid = tuple(mgrid..., xn)\n",
    "end\n",
    "\n",
    "mgrid = convert(NTuple{5,Array{Float32,1}}, mgrid)\n",
    "mV_raw = convert(Array{Float32,5}, HJIdata[\"data\"])\n",
    "m∇V_raw = convert(Array{SArray{Tuple{5},Float32,1,5},5}, SVector.(HJIdata[\"deriv\"]...))\n",
    "\n",
    "@save \"HJIValue_Human_MinD.jld2\"  mgrid mV_raw m∇V_raw\n",
    "@load \"HJIValue_Human_MinD.jld2\""
   ]
  },
  {
   "cell_type": "code",
   "execution_count": 5,
   "metadata": {},
   "outputs": [
    {
     "data": {
      "text/plain": [
       "3-element Array{Symbol,1}:\n",
       " :mgrid  \n",
       " :mV_raw \n",
       " :m∇V_raw"
      ]
     },
     "execution_count": 5,
     "metadata": {},
     "output_type": "execute_result"
    }
   ],
   "source": [
    "HJIdata = matread(\"HJIValue_Human_MaxD.mat\")\n",
    "dim = HJIdata[\"dim\"]\n",
    "Xmax = HJIdata[\"Xmax\"]\n",
    "Xmin = HJIdata[\"Xmin\"]\n",
    "N = HJIdata[\"N\"]\n",
    "\n",
    "mgrid = tuple()\n",
    "\n",
    "for i in 1:Int(dim)\n",
    "    xn = collect(range(Xmin[i], Xmax[i], length = Int(N[i])))\n",
    "    mgrid = tuple(mgrid..., xn)\n",
    "end\n",
    "\n",
    "mgrid = convert(NTuple{5,Array{Float32,1}}, mgrid)\n",
    "mV_raw = convert(Array{Float32,5}, HJIdata[\"data\"])\n",
    "m∇V_raw = convert(Array{SArray{Tuple{5},Float32,1,5},5}, SVector.(HJIdata[\"deriv\"]...))\n",
    "\n",
    "@save \"HJIValue_Human_MaxD.jld2\"  mgrid mV_raw m∇V_raw\n",
    "@load \"HJIValue_Human_MaxD.jld2\""
   ]
  },
  {
   "cell_type": "code",
   "execution_count": 6,
   "metadata": {},
   "outputs": [
    {
     "data": {
      "text/plain": [
       "3-element Array{Symbol,1}:\n",
       " :mgrid  \n",
       " :mV_raw \n",
       " :m∇V_raw"
      ]
     },
     "execution_count": 6,
     "metadata": {},
     "output_type": "execute_result"
    }
   ],
   "source": [
    "HJIdata = matread(\"HJIValue_Wall.mat\")\n",
    "dim = HJIdata[\"dim\"]\n",
    "Xmax = HJIdata[\"Xmax\"]\n",
    "Xmin = HJIdata[\"Xmin\"]\n",
    "N = HJIdata[\"N\"]\n",
    "\n",
    "mgrid = tuple()\n",
    "\n",
    "for i in 1:Int(dim)\n",
    "    xn = collect(range(Xmin[i], Xmax[i], length = Int(N[i])))\n",
    "    mgrid = tuple(mgrid..., xn)\n",
    "end\n",
    "\n",
    "mgrid = convert(NTuple{3,Array{Float32,1}}, mgrid)\n",
    "mV_raw = convert(Array{Float32,3}, HJIdata[\"data\"])\n",
    "m∇V_raw = convert(Array{SArray{Tuple{3},Float32,1,3},3}, SVector.(HJIdata[\"deriv\"]...))\n",
    "\n",
    "@save \"HJIValue_Wall.jld2\"  mgrid mV_raw m∇V_raw\n",
    "@load \"HJIValue_Wall.jld2\""
   ]
  },
  {
   "cell_type": "code",
   "execution_count": 7,
   "metadata": {},
   "outputs": [
    {
     "data": {
      "text/plain": [
       "(61, 21, 11)"
      ]
     },
     "execution_count": 7,
     "metadata": {},
     "output_type": "execute_result"
    }
   ],
   "source": [
    "size(m∇V_raw)"
   ]
  },
  {
   "cell_type": "code",
   "execution_count": null,
   "metadata": {},
   "outputs": [],
   "source": []
  }
 ],
 "metadata": {
  "kernelspec": {
   "display_name": "Julia 1.1.0",
   "language": "julia",
   "name": "julia-1.1"
  },
  "language_info": {
   "file_extension": ".jl",
   "mimetype": "application/julia",
   "name": "julia",
   "version": "1.1.0"
  }
 },
 "nbformat": 4,
 "nbformat_minor": 2
}
